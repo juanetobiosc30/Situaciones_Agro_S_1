{
  "nbformat": 4,
  "nbformat_minor": 0,
  "metadata": {
    "colab": {
      "provenance": [],
      "authorship_tag": "ABX9TyP8595JwvDdPt8HxRK2sHQz",
      "include_colab_link": true
    },
    "kernelspec": {
      "name": "python3",
      "display_name": "Python 3"
    },
    "language_info": {
      "name": "python"
    }
  },
  "cells": [
    {
      "cell_type": "markdown",
      "metadata": {
        "id": "view-in-github",
        "colab_type": "text"
      },
      "source": [
        "<a href=\"https://colab.research.google.com/github/juanetobiosc30/Situaciones_Agro_S_1/blob/main/Situaciones_Agro_S_1.ipynb\" target=\"_parent\"><img src=\"https://colab.research.google.com/assets/colab-badge.svg\" alt=\"Open In Colab\"/></a>"
      ]
    },
    {
      "cell_type": "markdown",
      "source": [
        "# 1. Situación de Ingeniería Agrícola\n",
        "\n",
        "Un agricultor necesita saber cuántos kilogramos de semilla de maíz debe comprar para sembrar un lote rectangular. Conoce la densidad de siembra recomendada (kg por hectárea) y las dimensiones del lote (largo y ancho en metros)."
      ],
      "metadata": {
        "id": "pGj0bcckoNzj"
      }
    },
    {
      "cell_type": "code",
      "execution_count": null,
      "metadata": {
        "id": "lBcFcMd8m_vt"
      },
      "outputs": [],
      "source": [
        "# 1. Saludar al usuario y explicar qué hace el programa.\n",
        "print(\"Bienvenido al programa de cálculo de densidad de siembra.\")\n",
        "\n",
        "# 2. Pedir al usuario que ingrese el largo del lote en metros (input sin convertir).\n",
        "largo = input(\"Ingrese el largo del lote en metros: \")\n",
        "\n",
        "# 3. Pedir el ancho del lote en metros (input sin conversión).\n",
        "ancho = input(\"Ingrese el ancho del lote en metros: \")\n",
        "\n",
        "# 4. Pedir la densidad de siembra en kg/hectárea (input sin covertir).\n",
        "densidad = input(\"Ingrese la densidad de siembra en kg/hectárea: \")\n",
        "\n",
        "# 5. Convertir las entradas de texto a números decimales (float).\n",
        "largo = float(largo)\n",
        "ancho = float(ancho)\n",
        "densidad = float(densidad)\n",
        "\n",
        "# 6. Calcular el área en metros cuadrados (largo * ancho).\n",
        "area = largo * ancho\n",
        "\n",
        "# 7. Calcular la densidad de siembra en kg/hectárea (densidad * área).\n",
        "densidad_siembra = densidad * area\n",
        "\n",
        "# 8. Mostrar el resultado al usuario.\n",
        "print(f\"La densidad de siembra recomendada para un lote de (largo) metros de largo y (ancho) metros de ancho\")"
      ]
    },
    {
      "cell_type": "markdown",
      "metadata": {
        "id": "2951484c"
      },
      "source": [
        "Aquí tienes la explicación línea por línea del código proporcionado:"
      ]
    },
    {
      "cell_type": "code",
      "metadata": {
        "id": "4e4efa2f"
      },
      "source": [
        "# 2. Pedir al usuario que ingrese el largo del lote en metros (input sin convertir).\n",
        "largo = input(\"Ingrese el largo del lote en metros: \")"
      ],
      "execution_count": null,
      "outputs": []
    },
    {
      "cell_type": "code",
      "metadata": {
        "id": "741d0e48"
      },
      "source": [
        "# 3. Pedir el ancho del lote en metros (input sin conversión).\n",
        "ancho = input(\"Ingrese el ancho del lote en metros: \")"
      ],
      "execution_count": null,
      "outputs": []
    },
    {
      "cell_type": "code",
      "metadata": {
        "id": "fabac3f2"
      },
      "source": [
        "# 4. Pedir la densidad de siembra en kg/hectárea (input sin covertir).\n",
        "densidad = input(\"Ingrese la densidad de siembra en kg/hectárea: \")"
      ],
      "execution_count": null,
      "outputs": []
    },
    {
      "cell_type": "code",
      "metadata": {
        "id": "1d9171ef"
      },
      "source": [
        "# 5. Convertir las entradas de texto a números decimales (float).\n",
        "largo = float(largo)\n",
        "ancho = float(ancho)\n",
        "densidad = float(densidad)"
      ],
      "execution_count": null,
      "outputs": []
    },
    {
      "cell_type": "code",
      "metadata": {
        "id": "a6b0846c"
      },
      "source": [
        "# 6. Calcular el área en metros cuadrados (largo * ancho).\n",
        "area = largo * ancho"
      ],
      "execution_count": null,
      "outputs": []
    },
    {
      "cell_type": "code",
      "metadata": {
        "id": "dc90c8ad"
      },
      "source": [
        "# 7. Calcular la densidad de siembra en kg/hectárea (densidad * área).\n",
        "densidad_siembra = densidad * area"
      ],
      "execution_count": null,
      "outputs": []
    },
    {
      "cell_type": "code",
      "metadata": {
        "id": "f27f58e5"
      },
      "source": [
        "# 8. Mostrar el resultado al usuario.\n",
        "print(f\"La densidad de siembra recomendada para un lote de (largo) metros de largo y (ancho) metros de ancho\")"
      ],
      "execution_count": null,
      "outputs": []
    },
    {
      "cell_type": "markdown",
      "source": [
        "# 2. Situación de Interés en Ingeniería Agroindustrial\n",
        "\n",
        "En una planta de procesamiento de mango,\n",
        "se quiere calcular el rendimiento de un lote de fruta. Se necesita un programa simple que tome el\n",
        "peso inicial de los mangos antes de pelarlos y deshuesarlos, y el peso final de la pulpa obtenida, para\n",
        "expresar el rendimiento como un porcentaje."
      ],
      "metadata": {
        "id": "gPdFZ1EP1bo6"
      }
    },
    {
      "cell_type": "code",
      "source": [
        "# 1. Explicar el propósito de la calculadora.\n",
        "print(\"Bienvenido a la calculadora de rendimiento de mangos.\")\n",
        "\n",
        "# 2. Pedir el peso inicial del lote de mangos en kg (input).\n",
        "peso_inicial = input(\"Ingrese el peso inicial del lote de mangos en kg: \")\n",
        "\n",
        "# 3. Pedir el peso final de la pulpa en kg (input).\n",
        "peso_final = input(\"Ingrese el peso final de la pulpa en kg: \")\n",
        "\n",
        "# 4. Convertir ambos pesos a números decimales (float).\n",
        "peso_inicial = float(peso_inicial)\n",
        "peso_final = float(peso_final)\n",
        "\n",
        "# 5. Calcular el rendimiento como un porcentaje (peso_final / peso_inicial * 100).\n",
        "rendimiento = (peso_final / peso_inicial) * 100\n",
        "\n",
        "# 6. Mostrar el resultado al usuario.\n",
        "print(f\"El rendimiento del lote de mangos es de {rendimiento:.2f}%\")\n",
        "\n",
        "# 7. Mostrar el resultado del rendimiento, formateado como porcentaje.\n",
        "print(f\"El rendimiento del lote de mangos es de {rendimiento:.2f}%\")"
      ],
      "metadata": {
        "id": "rmsYFB7j16U6"
      },
      "execution_count": null,
      "outputs": []
    },
    {
      "cell_type": "markdown",
      "source": [
        "# 3. Situación de Interés en Ingeniería Civil\n",
        "\n",
        "Un ingeniero residente de obra necesita calcular\n",
        "rápidamente el volumen de concreto necesario para vaciar una losa de piso rectangular simple. Debe\n",
        "poder ingresar el largo, el ancho y el espesor de la losa para obtener el volumen en metros cúbicos."
      ],
      "metadata": {
        "id": "P0455E9L5en1"
      }
    },
    {
      "cell_type": "code",
      "source": [
        "# 1. Presentar la herramienta al usuario.\n",
        "print(\"Bienvenido a la herramienta de cálculo de volumen de concreto.\")\n",
        "\n",
        "# 2. Solicitar el largo, ancho y espesor de la losa, todos en metros (input).\n",
        "largo = input(\"Ingrese el largo de la losa en metros: \")\n",
        "ancho = input(\"Ingrese el ancho de la losa en metros: \")\n",
        "espesor = input(\"Ingrese el espesor de la losa en metros: \")\n",
        "\n",
        "# 3. Convertir todas las entradas a números decimales (float).\n",
        "largo = float(largo)\n",
        "ancho = float(ancho)\n",
        "espesor = float(espesor)\n",
        "\n",
        "# 4. Calcular el volumen multiplicando las tres dimensiones.\n",
        "volumen = largo * ancho * espesor\n",
        "\n",
        "# 5. Presentar el volumen calculado en metros cúbicos.\n",
        "print(f\"El volumen de concreto necesario es de {volumen:.2f} m³\")"
      ],
      "metadata": {
        "id": "a2h7Oznw5pgk"
      },
      "execution_count": null,
      "outputs": []
    },
    {
      "cell_type": "markdown",
      "metadata": {
        "id": "59a44bd3"
      },
      "source": [
        "Aquí tienes la explicación línea por línea del código proporcionado:\n",
        "\n",
        "*   `print(\"Bienvenido al programa de cálculo de densidad de siembra.\")`: Esta línea imprime un mensaje de bienvenida al usuario, indicando el propósito del programa.\n",
        "*   `largo = input(\"Ingrese el largo del lote en metros: \")`: Solicita al usuario que ingrese el largo del lote en metros y almacena la entrada (como texto) en la variable `largo`.\n",
        "*   `ancho = input(\"Ingrese el ancho del lote en metros: \")`: Solicita al usuario que ingrese el ancho del lote en metros y almacena la entrada (como texto) en la variable `ancho`.\n",
        "*   `densidad = input(\"Ingrese la densidad de siembra en kg/hectárea: \")`: Solicita al usuario que ingrese la densidad de siembra en kilogramos por hectárea y almacena la entrada (como texto) en la variable `densidad`.\n",
        "*   `largo = float(largo)`: Convierte el valor almacenado en la variable `largo` de texto a un número decimal (punto flotante) y actualiza la variable `largo` con este nuevo valor.\n",
        "*   `ancho = float(ancho)`: Convierte el valor almacenado en la variable `ancho` de texto a un número decimal (punto flotante) y actualiza la variable `ancho` con este nuevo valor.\n",
        "*   `densidad = float(densidad)`: Convierte el valor almacenado en la variable `densidad` de texto a un número decimal (punto flotante) y actualiza la variable `densidad` con este nuevo valor.\n",
        "*   `area = largo * ancho`: Calcula el área del lote multiplicando el largo por el ancho y almacena el resultado en la variable `area`.\n",
        "*   `densidad_siembra = densidad * area`: **Nota:** Esta línea parece incorrecta. Calcula la densidad de siembra multiplicando la densidad por el área. Sin embargo, la densidad ya está en kg/hectárea, y el área en metros cuadrados. Para calcular la cantidad total de semilla necesaria, necesitarías convertir el área a hectáreas primero (dividiendo por 10000) y luego multiplicarla por la densidad. La línea debería ser más similar a `semilla_necesaria = (area / 10000) * densidad`.\n",
        "*   `print(f\"La densidad de siembra recomendada para un lote de (largo) metros de largo y (ancho) metros de ancho\")`: Esta línea intenta mostrar el resultado al usuario utilizando una f-string. Sin embargo, tiene un error: está imprimiendo `(largo)` y `(ancho)` literalmente en lugar de los valores de las variables. Debería ser `print(f\"La densidad de siembra recomendada para un lote de {largo} metros de largo y {ancho} metros de ancho es...\")`. Además, el cálculo de la cantidad de semilla necesaria no se está mostrando en esta línea."
      ]
    }
  ]
}