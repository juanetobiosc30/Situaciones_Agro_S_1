{
  "nbformat": 4,
  "nbformat_minor": 0,
  "metadata": {
    "colab": {
      "provenance": [],
      "authorship_tag": "ABX9TyMT4ztS/I05MOoBVhAPw14N",
      "include_colab_link": true
    },
    "kernelspec": {
      "name": "python3",
      "display_name": "Python 3"
    },
    "language_info": {
      "name": "python"
    }
  },
  "cells": [
    {
      "cell_type": "markdown",
      "metadata": {
        "id": "view-in-github",
        "colab_type": "text"
      },
      "source": [
        "<a href=\"https://colab.research.google.com/github/juanetobiosc30/Situaciones_Agro_S_1/blob/main/Situaciones_Agro_S_1.ipynb\" target=\"_parent\"><img src=\"https://colab.research.google.com/assets/colab-badge.svg\" alt=\"Open In Colab\"/></a>"
      ]
    },
    {
      "cell_type": "markdown",
      "source": [
        "# Situación de Ingeniería Agrícola\n",
        "\n",
        "Un agricultor necesita saber cuántos kilogramos de semilla de maíz debe comprar para sembrar un lote rectangular. Conoce la densidad de siembra recomendada (kg por hectárea) y las dimensiones del lote (largo y ancho en metros)."
      ],
      "metadata": {
        "id": "pGj0bcckoNzj"
      }
    },
    {
      "cell_type": "code",
      "execution_count": null,
      "metadata": {
        "id": "lBcFcMd8m_vt"
      },
      "outputs": [],
      "source": [
        "# 1. Saludar al usuario y explicar qué hace el programa.\n",
        "print(\"Bienvenido al programa de cálculo de densidad de siembra.\")\n",
        "\n",
        "# 2. Pedir al usuario que ingrese el largo del lote en metros (input sin convertir).\n",
        "largo = input(\"Ingrese el largo del lote en metros: \")\n",
        "\n",
        "# 3. Pedir el ancho del lote en metros (input sin conversión).\n",
        "ancho = input(\"Ingrese el ancho del lote en metros: \")\n",
        "\n",
        "# 4. Pedir la densidad de siembra en kg/hectárea (input sin covertir).\n",
        "densidad = input(\"Ingrese la densidad de siembra en kg/hectárea: \")\n",
        "\n",
        "# 5. Convertir las entradas de texto a números decimales (float).\n",
        "largo = float(largo)\n",
        "ancho = float(ancho)\n",
        "densidad = float(densidad)\n",
        "\n",
        "# 6. Calcular el área en metros cuadrados (largo * ancho).\n",
        "area = largo * ancho\n",
        "\n",
        "# 7. Calcular la densidad de siembra en kg/hectárea (densidad * área).\n",
        "densidad_siembra = densidad * area\n",
        "\n",
        "# 8. Mostrar el resultado al usuario.\n",
        "print(f\"La densidad de siembra recomendada para un lote de (largo) metros de largo y (ancho) metros de ancho\")"
      ]
    },
    {
      "cell_type": "markdown",
      "metadata": {
        "id": "2951484c"
      },
      "source": [
        "Aquí tienes la explicación línea por línea del código proporcionado:"
      ]
    },
    {
      "cell_type": "code",
      "metadata": {
        "id": "4e4efa2f"
      },
      "source": [
        "# 2. Pedir al usuario que ingrese el largo del lote en metros (input sin convertir).\n",
        "largo = input(\"Ingrese el largo del lote en metros: \")"
      ],
      "execution_count": null,
      "outputs": []
    },
    {
      "cell_type": "code",
      "metadata": {
        "id": "741d0e48"
      },
      "source": [
        "# 3. Pedir el ancho del lote en metros (input sin conversión).\n",
        "ancho = input(\"Ingrese el ancho del lote en metros: \")"
      ],
      "execution_count": null,
      "outputs": []
    },
    {
      "cell_type": "code",
      "metadata": {
        "id": "fabac3f2"
      },
      "source": [
        "# 4. Pedir la densidad de siembra en kg/hectárea (input sin covertir).\n",
        "densidad = input(\"Ingrese la densidad de siembra en kg/hectárea: \")"
      ],
      "execution_count": null,
      "outputs": []
    },
    {
      "cell_type": "code",
      "metadata": {
        "id": "1d9171ef"
      },
      "source": [
        "# 5. Convertir las entradas de texto a números decimales (float).\n",
        "largo = float(largo)\n",
        "ancho = float(ancho)\n",
        "densidad = float(densidad)"
      ],
      "execution_count": null,
      "outputs": []
    },
    {
      "cell_type": "code",
      "metadata": {
        "id": "a6b0846c"
      },
      "source": [
        "# 6. Calcular el área en metros cuadrados (largo * ancho).\n",
        "area = largo * ancho"
      ],
      "execution_count": null,
      "outputs": []
    },
    {
      "cell_type": "code",
      "metadata": {
        "id": "dc90c8ad"
      },
      "source": [
        "# 7. Calcular la densidad de siembra en kg/hectárea (densidad * área).\n",
        "densidad_siembra = densidad * area"
      ],
      "execution_count": null,
      "outputs": []
    },
    {
      "cell_type": "code",
      "metadata": {
        "id": "f27f58e5"
      },
      "source": [
        "# 8. Mostrar el resultado al usuario.\n",
        "print(f\"La densidad de siembra recomendada para un lote de (largo) metros de largo y (ancho) metros de ancho\")"
      ],
      "execution_count": null,
      "outputs": []
    }
  ]
}